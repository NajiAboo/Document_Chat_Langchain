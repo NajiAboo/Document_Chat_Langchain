{
 "cells": [
  {
   "cell_type": "code",
   "execution_count": 2,
   "metadata": {},
   "outputs": [
    {
     "name": "stdout",
     "output_type": "stream",
     "text": [
      "success!!\n"
     ]
    }
   ],
   "source": [
    "print(\"success!!\")"
   ]
  },
  {
   "cell_type": "code",
   "execution_count": 49,
   "metadata": {},
   "outputs": [
    {
     "data": {
      "text/plain": [
       "True"
      ]
     },
     "execution_count": 49,
     "metadata": {},
     "output_type": "execute_result"
    }
   ],
   "source": [
    "from dotenv import load_dotenv\n",
    "load_dotenv()"
   ]
  },
  {
   "cell_type": "code",
   "execution_count": 1,
   "metadata": {},
   "outputs": [],
   "source": [
    "from typing import List, Tuple, Dict"
   ]
  },
  {
   "cell_type": "code",
   "execution_count": 51,
   "metadata": {},
   "outputs": [],
   "source": [
    "from langchain_community.document_loaders import PyPDFLoader\n",
    "from langchain_text_splitters import RecursiveCharacterTextSplitter\n",
    "from langchain_chroma import Chroma\n",
    "from langchain.retrievers import BM25Retriever\n",
    "from langchain_ollama import OllamaEmbeddings, ChatOllama\n",
    "from langchain.retrievers import EnsembleRetriever\n",
    "from langchain.retrievers import ParentDocumentRetriever\n",
    "from langchain.storage import InMemoryStore\n",
    "from langgraph.graph import StateGraph, Graph\n",
    "from concurrent.futures import ThreadPoolExecutor\n",
    "from langchain_core.messages import HumanMessage\n",
    "from langchain_openai import ChatOpenAI\n"
   ]
  },
  {
   "cell_type": "code",
   "execution_count": 23,
   "metadata": {},
   "outputs": [],
   "source": [
    "class DataIngestionPipeline:\n",
    "    def __init__(self,chunk_size=2000) -> None:\n",
    "        self.chunk_size = chunk_size \n",
    "        self.text_splitters = RecursiveCharacterTextSplitter(chunk_size=self.chunk_size, chunk_overlap=100)\n",
    "        self.embeddings = OllamaEmbeddings(model=\"phi3\")\n",
    "\n",
    "    def process_document(self, doc) -> List:\n",
    "        chunks = self.text_splitters.split_documents([doc])\n",
    "        return chunks\n",
    "    \n",
    "    def ingect(self, path:str) -> Tuple[Chroma, BM25Retriever]:\n",
    "        loader = PyPDFLoader(path)\n",
    "        docs = loader.load()\n",
    "        chunks = []\n",
    "        for doc in docs:\n",
    "            chunk = self.process_document(doc)\n",
    "            chunks.extend(chunk)\n",
    "\n",
    "        vectorstore = Chroma.from_documents(documents=chunks, embedding=self.embeddings)\n",
    "        bm25retriever = BM25Retriever.from_documents(documents=chunks)\n",
    "        return vectorstore, bm25retriever"
   ]
  },
  {
   "cell_type": "code",
   "execution_count": 6,
   "metadata": {},
   "outputs": [],
   "source": [
    "class GraphState(Dict):\n",
    "    question: str = \"\"\n",
    "    docs: List = []\n",
    "    answer: str = \"\""
   ]
  },
  {
   "cell_type": "code",
   "execution_count": 39,
   "metadata": {},
   "outputs": [],
   "source": [
    "class QAPipeline:\n",
    "    def __init__(self, vectorstore: Chroma, bm25retriever: BM25Retriever) -> None:\n",
    "        self.vectorstore = vectorstore\n",
    "        self.bm25retriever = bm25retriever\n",
    "        self.llm = ChatOllama(model=\"phi3\")\n",
    "        self.retriever = EnsembleRetriever(\n",
    "            retrievers=[\n",
    "                vectorstore.as_retriever(search_kwargs={\"k\": 2}),\n",
    "                self.bm25retriever\n",
    "            ],\n",
    "            weights=[0.7,0.3]\n",
    "        )\n",
    "\n",
    "        self.parent_retriever = ParentDocumentRetriever(\n",
    "            vectorstore=self.vectorstore, \n",
    "            docstore=InMemoryStore(), \n",
    "            child_splitter = RecursiveCharacterTextSplitter(chunk_size=400, chunk_overlap=10),\n",
    "            parent_splittr = RecursiveCharacterTextSplitter(chunk_size= 2000, chunk_overlap=100)\n",
    "        )\n",
    "\n",
    "    def __process_retrieved_documents(self, docs) -> str:\n",
    "        return \"\\n\\n\".join([doc.page_content for doc in docs])\n",
    "\n",
    "    def create_graph(self) -> Graph:\n",
    "        \n",
    "        def retriever(state):\n",
    "            question = state[\"question\"]\n",
    "            with ThreadPoolExecutor() as executor:\n",
    "                results = list( \n",
    "                    executor.map(\n",
    "                        lambda r : r.get_relevant_documents(question),\n",
    "                        [self.retriever, self.parent_retriever]\n",
    "\n",
    "                    )\n",
    "                )\n",
    "\n",
    "            all_docs = list( {doc.page_content: doc  for doc in results[0] + results[1]}.values())\n",
    "\n",
    "            return {\"docs\": all_docs, **state}\n",
    "        \n",
    "        def generate_answer(state):\n",
    "            context = self.__process_retrieved_documents(state[\"docs\"])\n",
    "            prompt = f\"\"\" Answer the question based on the following context:\n",
    "                Context: {context}\n",
    "                Question: {state[\"question\"]}\n",
    "                Answer: \n",
    "\n",
    "             \"\"\"\n",
    "            \n",
    "            messages = [HumanMessage(content=prompt)]\n",
    "            resulst = self.llm.invoke(messages)\n",
    "            return {\"answer\": resulst, **state}\n",
    "        \n",
    "        workflow = StateGraph(GraphState)\n",
    "        workflow.add_node(\"retriever\", retriever)\n",
    "        workflow.add_node(\"generator\", generate_answer)\n",
    "\n",
    "        workflow.set_entry_point(\"retriever\")\n",
    "        workflow.add_edge(\"retriever\", \"generator\")\n",
    "        workflow.set_finish_point(\"generator\")\n",
    "\n",
    "        graph = workflow.compile()\n",
    "\n",
    "        return graph\n",
    "\n"
   ]
  },
  {
   "cell_type": "code",
   "execution_count": 35,
   "metadata": {},
   "outputs": [],
   "source": [
    "data_ingestion_pipeline = DataIngestionPipeline()\n",
    "doc_path = \"/Users/mohamednajiaboo/Desktop/DocumentChat/Document_Chat_Langchain/datas/HR-Policy-DHLL.pdf\"\n",
    "vectorstore, bm25retriever = data_ingestion_pipeline.ingect(path=doc_path)"
   ]
  },
  {
   "cell_type": "code",
   "execution_count": 40,
   "metadata": {},
   "outputs": [],
   "source": [
    "qa_pipeline = QAPipeline(vectorstore=vectorstore, bm25retriever=bm25retriever)"
   ]
  },
  {
   "cell_type": "code",
   "execution_count": 41,
   "metadata": {},
   "outputs": [],
   "source": [
    "graph = qa_pipeline.create_graph()"
   ]
  },
  {
   "cell_type": "code",
   "execution_count": 42,
   "metadata": {},
   "outputs": [],
   "source": [
    "result = graph.invoke({\"question\": \"What is office timing?\"})"
   ]
  },
  {
   "cell_type": "code",
   "execution_count": 43,
   "metadata": {},
   "outputs": [
    {
     "data": {
      "text/plain": [
       "{'question': 'What is office timing?',\n",
       " 'docs': [Document(metadata={'page': 0, 'source': '/Users/mohamednajiaboo/Desktop/DocumentChat/Document_Chat_Langchain/datas/HR-Policy-DHLL.pdf'}, page_content='l. Leave to be applied three days in advance for both in the cases of casual leave and privilege leave. \\n \\n \\nTypes of Leave \\n \\nNature of Leave Eligible Leave In calendar year Remarks \\nCasual Leave 12 Privilege leaves \\navailable after one \\nyear for Confirmed \\nEmployees \\nPrivilege Leave 12 \\nSick Leave 12 \\nMaternity leave As per Govt Rule \\nCompensatory off   \\n \\n\\uf0d8 In case of exigencies whereas a staff member worked on holidays / restricted holidays, compensatory off is \\npermitted on later date \\n\\uf0d8 In case of exigencies respective department head can permit the late coming/ early going without regard to \\npunching  \\n\\uf0d8 Additional Leave apart above leaves will be treated as Loss of pay, maximum 15 days LOP allowed in very \\nspecial case with higher authority’s approval. \\n \\nOther Policies \\n\\uf0a7 There will be six working days for all offices  \\n\\uf0a7 Attendance cycle has been fixed as 1st to 30th \\n\\uf0a7 The salary would be disbursed to employee’s salary account on end of month.'),\n",
       "  Document(metadata={'source': '/Users/mohamednajiaboo/Desktop/DocumentChat/Document_Chat_Langchain/datas/HR-Policy-DHLL.pdf', 'page': 0}, page_content='1 \\nHR Policy  \\n \\nHR POLICY \\n \\nHR Policy approved by the Board at the on 30th July 2021 amended on 22-Nov-2021 \\n \\nTiming  \\n \\na. Office time is from 9.30 am to 5.30 pm with lunch break of 30 minutes from 1.45 pm to 2.15 pm \\nb. No separate business hours and office hours as such the business hours are from 9.30 am to 5.30 pm, the lunch \\nbreak is to be taken by the staff in turn by turn without affecting the customer service. \\nc. The Biometric punching is to be done without fail, well in time, late punching up to 10 minutes for unforeseen \\nreasons is permitted as special case, The late punching is to be compensated preferably on the same day. Late \\npunching more than three times or more than 45 minutes will be treated as half day leave. \\nd. Failure to do biometric punching will be treated as leave \\ne. Early departure up to one hour is permitted for exigencies, maximum two times in a month, subject to the \\ncondition that early departure is to be compensated by working extra time on any day with in that month. \\nPrior approval is to be taken from the concerned reporting authority, but punching is compulsory. \\nf. Where the employee is required to go out for an official work and in case could not report back to the office \\nby the evening the approval is to be taken from the reporting authority who in turn has to report the non-\\nmarking to HR Head for approval \\ng. Compensatory off can be accumulated, but to be availed a maximum of two days at a stretch \\nh. The casual leave cannot be availed more than 4 days at a stretch \\ni. Leave period should not exceed 6 days, at a stretch prefixing or suffixing the holidays \\nj. Balance privilege leave and sick leave in a calendar year are carried over to next year for the credit of leave \\naccount. Maximum 6 sick leaves and 12 PL will be allowed for carry forward. \\nk. PL/SL can be suffixed to sick leave only if SL is exhausted or insufficient at the time of applying the sick leave'),\n",
       "  Document(metadata={'source': '/Users/mohamednajiaboo/Desktop/DocumentChat/Document_Chat_Langchain/datas/HR-Policy-DHLL.pdf', 'page': 1}, page_content='\\uf0a7 All Leave request should be approved by authorized personnel. The employee has to ensure that the same \\nbeen accepted by the reporting Manager before proceeding for the leave. \\n\\uf0a7 In Case of emergency or illness, it is expected that the employee will keep his /her Reporting Manager informed \\nby phone or otherwise on the same day before the start of working hours in such cases approval should be \\ntaken within 1 day of resuming duty. \\n \\nNotice Period \\n\\uf0a7 During the probation period and on confirmation, the notice period to be served is one (1) and three (3) \\nmonths resp. The company has the discretion to terminate employment immediately on disciplinary terms, if \\nthe employee has unsatisfactory performance at work, non-compliance to the Code of Conduct and Work \\nEthics Policy or frequent absenteeism from work. If terminated, the employee to serve 30 days’ notice period \\n \\n \\nLeave credit and accumulation \\n \\n\\uf0d8 Staff joined between 1st   to 10th   of month will be eligible for leave. \\n\\uf0d8 The casual leave and sick leave will be credited first of every month (one day for completed month) \\n \\n \\nLeave encashment \\n \\n\\uf0d8 Employee can be encashing availed privilege leave after completion of two years.  \\n\\uf0d8 Encashment calculation is (Basic + Dearness Allowance) * No: of days \\n \\nAmendment  \\n\\uf0d8 Salary Cycle Change 28th to 27th month Approved on 22th Nov 2021'),\n",
       "  Document(metadata={'source': '/Users/mohamednajiaboo/Desktop/DocumentChat/Document_Chat_Langchain/datas/HR-Policy-DHLL.pdf', 'page': 1}, page_content='2 \\nHR Policy  \\n\\uf0a7 On probation period employees are entitled to take six days of leave. However, this will be either sick or casual \\nleave only. These leaves shall be availed on basis of 1 leave per month of which no leave availed in current \\nmonth shall be added to subsequent month account and so on. Leaves not availed during the probation period \\nshall get lapsed upon completion of probationary period. \\n\\uf0a7 Loss /Damage of the employee id card /access card will be charged Rs 500 from respective employee. \\n\\uf0a7 Transfer applicable to all employees anywhere in India based on management decision. \\n \\n \\nPublic Holidays \\n \\nThe list of 13 Holidays will be declared at the beginning of the year and the same will be circulated \\nby HR department. \\n \\nMaternity Leave / Paternity leave \\n \\n\\uf0a7 For Male Employee paternity leave allow for two days. \\n\\uf0a7 Permanent female employees with at least 12-month continuous service are entitled to maternity leave \\n\\uf0a7 Maternity leave can be availed for a maximum of two occasions during the service tenure of the female \\nemployee and this included normal delivery caesarean delivery, miscarriage or medical termination of \\npregnancy \\n\\uf0a7 Maternity leave will be allowed for a total period of 90 days that can be availed of her impending confinement \\nnot less than 8 weeks in advance of the leave proposed to be taken, supported by medical certificate \\n\\uf0a7 Maternity leave will be in addition to other leave facilities already in force \\n\\uf0a7 No leave pay shall be due or payable in lieu of unavailable maternity leave \\n\\uf0a7 Maternity leave cannot be clubbed with any other leave except accumulated PL . Extension of leave, if any will \\nrequire a special sanction form the Head HR/COO based on the recommendation of the Reporting officer \\n/Function Head. \\n \\n \\nAdministrative Process \\n \\n\\uf0a7 All employee is required to plan their leave for the year so that company’s business does not suffer')],\n",
       " 'answer': AIMessage(content='The working hours at the office are from 9.30 am to 5.30 pm, with a lunch break taken by staff in turn lasting for about an hour and thirty minutes without affecting customer service. The Biometric punching should be done promptly within these timings or as late as up to ten minutes past time if unforeseen reasons arise - though such instances require compensation preferably on the same day, failure of which leads to treated as half-day leave. \\n\\nLeave timing and conditions for early departures are also specified in case an employee needs it due to exigencies or official work outside but must get prior approval from their reporting authority with a condition that such absences should be compensated by working extra time within the same month, as needed.', additional_kwargs={}, response_metadata={'model': 'phi3', 'created_at': '2024-12-30T15:11:25.598052Z', 'done': True, 'done_reason': 'stop', 'total_duration': 26230383625, 'load_duration': 17077709, 'prompt_eval_count': 1803, 'prompt_eval_duration': 12290000000, 'eval_count': 169, 'eval_duration': 13917000000, 'message': Message(role='assistant', content='', images=None, tool_calls=None)}, id='run-a6c7d0fc-a8d3-4061-97bb-30b523fe25cd-0', usage_metadata={'input_tokens': 1803, 'output_tokens': 169, 'total_tokens': 1972})}"
      ]
     },
     "execution_count": 43,
     "metadata": {},
     "output_type": "execute_result"
    }
   ],
   "source": [
    "result"
   ]
  },
  {
   "cell_type": "code",
   "execution_count": 48,
   "metadata": {},
   "outputs": [
    {
     "data": {
      "text/plain": [
       "'The working hours at the office are from 9.30 am to 5.30 pm, with a lunch break taken by staff in turn lasting for about an hour and thirty minutes without affecting customer service. The Biometric punching should be done promptly within these timings or as late as up to ten minutes past time if unforeseen reasons arise - though such instances require compensation preferably on the same day, failure of which leads to treated as half-day leave. \\n\\nLeave timing and conditions for early departures are also specified in case an employee needs it due to exigencies or official work outside but must get prior approval from their reporting authority with a condition that such absences should be compensated by working extra time within the same month, as needed.'"
      ]
     },
     "execution_count": 48,
     "metadata": {},
     "output_type": "execute_result"
    }
   ],
   "source": [
    "result[\"answer\"].content"
   ]
  },
  {
   "cell_type": "code",
   "execution_count": null,
   "metadata": {},
   "outputs": [],
   "source": []
  }
 ],
 "metadata": {
  "kernelspec": {
   "display_name": "Python 3",
   "language": "python",
   "name": "python3"
  },
  "language_info": {
   "codemirror_mode": {
    "name": "ipython",
    "version": 3
   },
   "file_extension": ".py",
   "mimetype": "text/x-python",
   "name": "python",
   "nbconvert_exporter": "python",
   "pygments_lexer": "ipython3",
   "version": "3.11.11"
  }
 },
 "nbformat": 4,
 "nbformat_minor": 2
}
